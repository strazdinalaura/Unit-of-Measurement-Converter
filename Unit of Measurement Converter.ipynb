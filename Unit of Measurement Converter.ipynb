{
 "cells": [
  {
   "cell_type": "markdown",
   "id": "e3fb7548",
   "metadata": {},
   "source": [
    "### Unit of Measurement Converter Project"
   ]
  },
  {
   "cell_type": "code",
   "execution_count": 9,
   "id": "9cc85bd7",
   "metadata": {},
   "outputs": [
    {
     "name": "stdout",
     "output_type": "stream",
     "text": [
      "Enter Starting Units of Measurement(inches, feet, yards): feet\n",
      "Enter Starting Units of Measurement to convert to (inches, feet, yards): yards\n",
      "Enter Starting Measurement in feet: 5\n",
      "Result: 5 Feet = 1.67 Yards\n"
     ]
    }
   ],
   "source": [
    "convert_from = input(\"Enter Starting Units of Measurement(inches, feet, yards): \")\n",
    "\n",
    "convert_to = input(\"Enter Starting Units of Measurement to convert to (inches, feet, yards): \")\n",
    "\n",
    "\n",
    "if convert_from.lower() in [\"inches\", \"in\", \"inch\"]:\n",
    "    number_of_inches = int(input(\"Enter Starting Measurement in inches: \")) #convert to integer because it was a string\n",
    "    if convert_to.lower() in [\"feet\", \"foot\", \"ft\"]:\n",
    "        print(\"Result: \" + str(number_of_inches) + \" Inches = \" + str(round(number_of_inches / 12,2)) + \" Feet\")\n",
    "    elif convert_to.lower() in [\"yards\", \"yard\", \"yds\", \"yards\"]:\n",
    "        print(\"Result: \" + str(number_of_inches) + \" Inches = \" + str(round(number_of_inches / 36,2)) + \" Yards\")\n",
    "    else:\n",
    "        print(\"Please enter either Inches, Feet, or Yards.\")\n",
    "\n",
    "        \n",
    "elif convert_from.lower() in [\"feet\", \"foot\", \"ft\"]:\n",
    "    number_of_feet = int(input(\"Enter Starting Measurement in feet: \"))\n",
    "    if convert_to.lower() in [\"inches\", \"in\", \"inch\"]:\n",
    "        print(\"Result: \" + str(number_of_feet) + \" Feet = \" + str(round(number_of_feet * 12)) + \" Inches\")\n",
    "    elif convert_to.lower() in [\"yards\", \"yard\", \"yds\", \"yards\"]:\n",
    "        print(\"Result: \" + str(number_of_feet) + \" Feet = \" + str(round(number_of_feet / 3,2)) + \" Yards\")\n",
    "    else:\n",
    "        print(\"Please enter either Inches, Feet, or Yards.\")\n",
    "\n",
    "        \n",
    "elif convert_from.lower() in [\"yards\", \"yard\", \"yds\", \"yards\"]:\n",
    "    number_of_yards = int(input(\"Enter Starting Measurement in yards: \"))\n",
    "    if convert_to.lower() in [\"inches\", \"in\", \"inch\"]:\n",
    "        print(\"Result: \" + str(number_of_yards) + \" Yards = \" + str(round(number_of_yards * 36)) + \" Inches\")\n",
    "    elif convert_to.lower() in [\"feet\", \"foot\", \"ft\"]:\n",
    "        print(\"Result: \" + str(number_of_yards) + \" Yards = \" + str(round(number_of_yards * 3)) + \" Feet\")\n",
    "    else:\n",
    "        print(\"Please enter either Inches, Feet, or Yards.\")\n",
    "\n",
    "    \n",
    "    \n",
    "else: \n",
    "    print(\"Please enter either Inches, Feet, or Yards.\")\n",
    "    "
   ]
  }
 ],
 "metadata": {
  "kernelspec": {
   "display_name": "Python 3 (ipykernel)",
   "language": "python",
   "name": "python3"
  },
  "language_info": {
   "codemirror_mode": {
    "name": "ipython",
    "version": 3
   },
   "file_extension": ".py",
   "mimetype": "text/x-python",
   "name": "python",
   "nbconvert_exporter": "python",
   "pygments_lexer": "ipython3",
   "version": "3.10.9"
  }
 },
 "nbformat": 4,
 "nbformat_minor": 5
}
